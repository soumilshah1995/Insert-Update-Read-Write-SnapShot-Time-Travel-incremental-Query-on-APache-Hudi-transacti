{
	"metadata": {
		"kernelspec": {
			"name": "glue_pyspark",
			"display_name": "Glue PySpark",
			"language": "python"
		},
		"language_info": {
			"name": "Python_Glue_Session",
			"mimetype": "text/x-python",
			"codemirror_mode": {
				"name": "python",
				"version": 3
			},
			"pygments_lexer": "python3",
			"file_extension": ".py"
		}
	},
	"nbformat_minor": 4,
	"nbformat": 4,
	"cells": [
		{
			"cell_type": "markdown",
			"source": "\n# Glue Studio Notebook\nYou are now running a **Glue Studio** notebook; before you can start using your notebook you *must* start an interactive session.\n\n## Available Magics\n|          Magic              |   Type       |                                                                        Description                                                                        |\n|-----------------------------|--------------|-----------------------------------------------------------------------------------------------------------------------------------------------------------|\n| %%configure                 |  Dictionary  |  A json-formatted dictionary consisting of all configuration parameters for a session. Each parameter can be specified here or through individual magics. |\n| %profile                    |  String      |  Specify a profile in your aws configuration to use as the credentials provider.                                                                          |\n| %iam_role                   |  String      |  Specify an IAM role to execute your session with.                                                                                                        |\n| %region                     |  String      |  Specify the AWS region in which to initialize a session.                                                                                                 |\n| %session_id                 |  String      |  Returns the session ID for the running session.                                                                                                          |\n| %connections                |  List        |  Specify a comma separated list of connections to use in the session.                                                                                     |\n| %additional_python_modules  |  List        |  Comma separated list of pip packages, s3 paths or private pip arguments.                                                                                 |\n| %extra_py_files             |  List        |  Comma separated list of additional Python files from S3.                                                                                                 |\n| %extra_jars                 |  List        |  Comma separated list of additional Jars to include in the cluster.                                                                                       |\n| %number_of_workers          |  Integer     |  The number of workers of a defined worker_type that are allocated when a job runs. worker_type must be set too.                                          |\n| %glue_version               |  String      |  The version of Glue to be used by this session. Currently, the only valid options are 2.0 and 3.0 (eg: %glue_version 2.0).                               |\n| %security_config            |  String      |  Define a security configuration to be used with this session.                                                                                            |\n| %sql                        |  String      |  Run SQL code. All lines after the initial %%sql magic will be passed as part of the SQL code.                                                            |\n| %streaming                  |  String      |  Changes the session type to Glue Streaming.                                                                                                              |\n| %etl                        |  String      |  Changes the session type to Glue ETL.                                                                                                                    |\n| %status                     |              |  Returns the status of the current Glue session including its duration, configuration and executing user / role.                                          |\n| %stop_session               |              |  Stops the current session.                                                                                                                               |\n| %list_sessions              |              |  Lists all currently running sessions by name and ID.                                                                                                     |\n| %worker_type                |  String      |  Standard, G.1X, *or* G.2X. number_of_workers must be set too. Default is G.1X.                                                                           |\n| %spark_conf                 |  String      |  Specify custom spark configurations for your session. E.g. %spark_conf spark.serializer=org.apache.spark.serializer.KryoSerializer.                      |",
			"metadata": {
				"editable": false,
				"deletable": false,
				"tags": [],
				"trusted": true
			}
		},
		{
			"cell_type": "code",
			"source": "# %stop_session",
			"metadata": {
				"trusted": true
			},
			"execution_count": 1,
			"outputs": [
				{
					"name": "stdout",
					"text": "Welcome to the Glue Interactive Sessions Kernel\nFor more information on available magic commands, please type %help in any new cell.\n\nPlease view our Getting Started page to access the most up-to-date information on the Interactive Sessions kernel: https://docs.aws.amazon.com/glue/latest/dg/interactive-sessions.html\nInstalled kernel version: 0.37.0 \n",
					"output_type": "stream"
				}
			]
		},
		{
			"cell_type": "markdown",
			"source": "# Step 1: Define your configurations",
			"metadata": {
				"tags": []
			}
		},
		{
			"cell_type": "code",
			"source": "%connections hudi-connection\n%glue_version 3.0\n%region us-west-2\n%worker_type G.1X\n%number_of_workers 3\n%spark_conf spark.serializer=org.apache.spark.serializer.KryoSerializer\n%additional_python_modules Faker",
			"metadata": {
				"trusted": true
			},
			"execution_count": 9,
			"outputs": [
				{
					"name": "stdout",
					"text": "Connections to be included:\nhudi-connection\nSetting Glue version to: 3.0\nPrevious region: us-west-2\nSetting new region to: us-west-2\nReauthenticating Glue client with new region: us-west-2\nIAM role has been set to arn:aws:iam::043916019468:role/Lab3. Reauthenticating.\nAuthenticating with environment variables and user-defined glue_role_arn: arn:aws:iam::043916019468:role/Lab3\nAuthentication done.\nRegion is set to: us-west-2\nPrevious worker type: G.1X\nSetting new worker type to: G.1X\nPrevious number of workers: 5\nSetting new number of workers to: 3\nPrevious Spark configuration: None\nSetting new Spark configuration to: spark.serializer=org.apache.spark.serializer.KryoSerializer\nAdditional python modules to be included:\nFaker\n",
					"output_type": "stream"
				}
			]
		},
		{
			"cell_type": "markdown",
			"source": "# Step 2: Define your Imports",
			"metadata": {
				"tags": []
			}
		},
		{
			"cell_type": "code",
			"source": "try:\n    import sys\n    from awsglue.transforms import *\n    from awsglue.utils import getResolvedOptions\n    from pyspark.context import SparkContext\n    from awsglue.context import GlueContext\n    from awsglue.job import Job\n    from pyspark.sql.session import SparkSession\n    from awsglue.dynamicframe import DynamicFrame\n    from pyspark.sql.functions import col, to_timestamp, monotonically_increasing_id, to_date, when\n    from pyspark.sql.functions import *\n    from awsglue.utils import getResolvedOptions\n    from pyspark.sql.types import *\n    from datetime import datetime\n    import boto3\n    from functools import reduce\nexcept Exception as e:\n    pass",
			"metadata": {
				"editable": true,
				"trusted": true
			},
			"execution_count": 1,
			"outputs": [
				{
					"name": "stdout",
					"text": "Trying to create a Glue session for the kernel.\nWorker Type: G.1X\nNumber of Workers: 3\nSession ID: dc1699e3-9e72-4935-908c-c01aeb33d39b\nJob Type: glueetl\nApplying the following default arguments:\n--glue_kernel_version 0.37.0\n--enable-glue-datacatalog true\n--conf spark.serializer=org.apache.spark.serializer.KryoSerializer\n--additional-python-modules Faker\nWaiting for session dc1699e3-9e72-4935-908c-c01aeb33d39b to get into ready status...\nSession dc1699e3-9e72-4935-908c-c01aeb33d39b has been created.\n\n",
					"output_type": "stream"
				}
			]
		},
		{
			"cell_type": "markdown",
			"source": "# Step 3:  Create Spark Session",
			"metadata": {}
		},
		{
			"cell_type": "code",
			"source": "spark = SparkSession.builder.config('spark.serializer','org.apache.spark.serializer.KryoSerializer').config('spark.sql.hive.convertMetastoreParquet','false').config('spark.sql.legacy.pathOptionBehavior.enabled', 'true').getOrCreate()\nsc = spark.sparkContext\nglueContext = GlueContext(sc)\njob = Job(glueContext)\nlogger = glueContext.get_logger()",
			"metadata": {
				"trusted": true
			},
			"execution_count": 63,
			"outputs": [
				{
					"name": "stdout",
					"text": "\n",
					"output_type": "stream"
				}
			]
		},
		{
			"cell_type": "markdown",
			"source": "# Step 4: Define Data Generator Class ",
			"metadata": {}
		},
		{
			"cell_type": "code",
			"source": "from faker import Faker\nglobal faker\nfaker = Faker()\n\nclass DataGenerator(object):\n\n    @staticmethod\n    def get_data():\n        return [\n            (\n                x,\n                faker.name(),\n                faker.random_element(elements=('IT', 'HR', 'Sales', 'Marketing')),\n                faker.random_element(elements=('CA', 'NY', 'TX', 'FL', 'IL', 'RJ')),\n                faker.random_int(min=10000, max=150000),\n                faker.random_int(min=18, max=60),\n                faker.random_int(min=0, max=100000),\n                faker.unix_time()\n            ) for x in range(3)\n        ]\n",
			"metadata": {
				"trusted": true
			},
			"execution_count": 64,
			"outputs": [
				{
					"name": "stdout",
					"text": "\n",
					"output_type": "stream"
				}
			]
		},
		{
			"cell_type": "markdown",
			"source": "# Step 5: Create Spark Data frame",
			"metadata": {}
		},
		{
			"cell_type": "code",
			"source": "data = DataGenerator.get_data()\n\ncolumns = [\"emp_id\", \"employee_name\", \"department\", \"state\", \"salary\", \"age\", \"bonus\", \"ts\"]\nspark_df = spark.createDataFrame(data=data, schema=columns)",
			"metadata": {
				"trusted": true
			},
			"execution_count": 65,
			"outputs": [
				{
					"name": "stdout",
					"text": "\n",
					"output_type": "stream"
				}
			]
		},
		{
			"cell_type": "code",
			"source": "spark_df.show()",
			"metadata": {
				"trusted": true
			},
			"execution_count": 66,
			"outputs": [
				{
					"name": "stdout",
					"text": "+------+----------------+----------+-----+------+---+-----+----------+\n|emp_id|   employee_name|department|state|salary|age|bonus|        ts|\n+------+----------------+----------+-----+------+---+-----+----------+\n|     0|Michael Schwartz|        HR|   NY|101517| 59|20692| 510575555|\n|     1|    Antonio Hale|        IT|   RJ| 18697| 58| 7399| 318481455|\n|     2|  Lauren Oconnor| Marketing|   IL| 32029| 58|62591|1483855109|\n+------+----------------+----------+-----+------+---+-----+----------+\n",
					"output_type": "stream"
				}
			]
		},
		{
			"cell_type": "markdown",
			"source": "# Step 7:  Define your HUDI Settings ",
			"metadata": {
				"tags": []
			}
		},
		{
			"cell_type": "code",
			"source": "db_name = \"hudidb\"\ntable_name=\"hudi_table\"\n\nrecordkey = 'emp_id'\nprecombine = 'ts'\n\npath = \"s3://soumil-dms-learn/hudi/hudi_table/\"\nmethod = 'upsert'\ntable_type = \"COPY_ON_WRITE\"",
			"metadata": {
				"trusted": true
			},
			"execution_count": 67,
			"outputs": [
				{
					"name": "stdout",
					"text": "\n",
					"output_type": "stream"
				}
			]
		},
		{
			"cell_type": "code",
			"source": "connection_options={\n    \"path\": path,\n    \"connectionName\": \"hudi-connection\",\n\n    \"hoodie.datasource.write.storage.type\": table_type,\n    'className': 'org.apache.hudi',\n    'hoodie.table.name': table_name,\n    'hoodie.datasource.write.recordkey.field': recordkey,\n    'hoodie.datasource.write.table.name': table_name,\n    'hoodie.datasource.write.operation': method,\n    'hoodie.datasource.write.precombine.field': precombine,\n\n\n    'hoodie.datasource.hive_sync.enable': 'true',\n    \"hoodie.datasource.hive_sync.mode\":\"hms\",\n    'hoodie.datasource.hive_sync.sync_as_datasource': 'false',\n    'hoodie.datasource.hive_sync.database': db_name,\n    'hoodie.datasource.hive_sync.table': table_name,\n    'hoodie.datasource.hive_sync.use_jdbc': 'false',\n    'hoodie.datasource.hive_sync.partition_extractor_class': 'org.apache.hudi.hive.MultiPartKeysValueExtractor',\n    'hoodie.datasource.write.hive_style_partitioning': 'true',\n}",
			"metadata": {
				"trusted": true
			},
			"execution_count": 68,
			"outputs": [
				{
					"name": "stdout",
					"text": "\n",
					"output_type": "stream"
				}
			]
		},
		{
			"cell_type": "markdown",
			"source": "# Step 8: Write to HUDI ",
			"metadata": {}
		},
		{
			"cell_type": "code",
			"source": "ApacheHudiConnector0101forAWSGlue30_node1671045598524 = (\n    glueContext.write_dynamic_frame.from_options(\n        frame=DynamicFrame.fromDF(spark_df, glueContext,\"glue_df\"),\n        connection_type=\"marketplace.spark\",\n        connection_options=connection_options,\n        transformation_ctx=\"glue_df\",\n    )\n)",
			"metadata": {
				"trusted": true
			},
			"execution_count": 69,
			"outputs": [
				{
					"name": "stdout",
					"text": "\n",
					"output_type": "stream"
				}
			]
		},
		{
			"cell_type": "markdown",
			"source": "# Step 9 : Read from HUDI Table",
			"metadata": {}
		},
		{
			"cell_type": "code",
			"source": "ReadGlueDF = (\n    glueContext.create_dynamic_frame.from_options(\n        connection_type=\"marketplace.spark\",\n        connection_options=connection_options,\n        transformation_ctx=\"ReadGlueDF\",\n    )\n)\nglue_to_spark_df = ReadGlueDF.toDF()",
			"metadata": {
				"trusted": true
			},
			"execution_count": 70,
			"outputs": [
				{
					"name": "stdout",
					"text": "\n",
					"output_type": "stream"
				}
			]
		},
		{
			"cell_type": "code",
			"source": "glue_to_spark_df.show()",
			"metadata": {
				"trusted": true
			},
			"execution_count": 71,
			"outputs": [
				{
					"name": "stdout",
					"text": "+-------------------+--------------------+------------------+----------------------+--------------------+------+----------------+----------+-----+------+---+-----+----------+\n|_hoodie_commit_time|_hoodie_commit_seqno|_hoodie_record_key|_hoodie_partition_path|   _hoodie_file_name|emp_id|   employee_name|department|state|salary|age|bonus|        ts|\n+-------------------+--------------------+------------------+----------------------+--------------------+------+----------------+----------+-----+------+---+-----+----------+\n|  20221221162242455|20221221162242455...|                 2|                      |451fc7ed-0b7e-427...|     2|  Lauren Oconnor| Marketing|   IL| 32029| 58|62591|1483855109|\n|  20221221162242455|20221221162242455...|                 1|                      |451fc7ed-0b7e-427...|     1|    Antonio Hale|        IT|   RJ| 18697| 58| 7399| 318481455|\n|  20221221162242455|20221221162242455...|                 0|                      |451fc7ed-0b7e-427...|     0|Michael Schwartz|        HR|   NY|101517| 59|20692| 510575555|\n+-------------------+--------------------+------------------+----------------------+--------------------+------+----------------+----------+-----+------+---+-----+----------+\n",
					"output_type": "stream"
				}
			]
		},
		{
			"cell_type": "markdown",
			"source": "# Step 10 Append into HUDI",
			"metadata": {}
		},
		{
			"cell_type": "code",
			"source": "impleDataUpd = [\n    (3, \"This is APPEND\", \"Sales\", \"RJ\", 81000, 30, 23000, 827307999),\n    (4, \"This is APPEND\", \"Engineering\", \"RJ\", 79000, 53, 15000, 1627694678),\n]\n\ncolumns = [\"emp_id\", \"employee_name\", \"department\", \"state\", \"salary\", \"age\", \"bonus\", \"ts\"]\nspark_df = spark.createDataFrame(data=impleDataUpd, schema=columns)\n\nWriteDF = (\n    glueContext.write_dynamic_frame.from_options(\n        frame=DynamicFrame.fromDF(spark_df, glueContext,\"glue_df\"),\n        connection_type=\"marketplace.spark\",\n        connection_options=connection_options,\n        transformation_ctx=\"glue_df\",\n    )\n)",
			"metadata": {
				"trusted": true
			},
			"execution_count": 72,
			"outputs": [
				{
					"name": "stdout",
					"text": "\n",
					"output_type": "stream"
				}
			]
		},
		{
			"cell_type": "code",
			"source": "ReadGlueDF = (\n    glueContext.create_dynamic_frame.from_options(\n        connection_type=\"marketplace.spark\",\n        connection_options=connection_options,\n        transformation_ctx=\"ReadGlueDF\",\n    )\n)\nglue_to_spark_df = ReadGlueDF.toDF()\nglue_to_spark_df.show()",
			"metadata": {
				"trusted": true
			},
			"execution_count": 73,
			"outputs": [
				{
					"name": "stdout",
					"text": "+-------------------+--------------------+------------------+----------------------+--------------------+------+----------------+-----------+-----+------+---+-----+----------+\n|_hoodie_commit_time|_hoodie_commit_seqno|_hoodie_record_key|_hoodie_partition_path|   _hoodie_file_name|emp_id|   employee_name| department|state|salary|age|bonus|        ts|\n+-------------------+--------------------+------------------+----------------------+--------------------+------+----------------+-----------+-----+------+---+-----+----------+\n|  20221221162242455|20221221162242455...|                 2|                      |451fc7ed-0b7e-427...|     2|  Lauren Oconnor|  Marketing|   IL| 32029| 58|62591|1483855109|\n|  20221221162242455|20221221162242455...|                 1|                      |451fc7ed-0b7e-427...|     1|    Antonio Hale|         IT|   RJ| 18697| 58| 7399| 318481455|\n|  20221221162254254|20221221162254254...|                 3|                      |451fc7ed-0b7e-427...|     3|  This is APPEND|      Sales|   RJ| 81000| 30|23000| 827307999|\n|  20221221162254254|20221221162254254...|                 4|                      |451fc7ed-0b7e-427...|     4|  This is APPEND|Engineering|   RJ| 79000| 53|15000|1627694678|\n|  20221221162242455|20221221162242455...|                 0|                      |451fc7ed-0b7e-427...|     0|Michael Schwartz|         HR|   NY|101517| 59|20692| 510575555|\n+-------------------+--------------------+------------------+----------------------+--------------------+------+----------------+-----------+-----+------+---+-----+----------+\n",
					"output_type": "stream"
				}
			]
		},
		{
			"cell_type": "markdown",
			"source": "# Step 11: Update in HUDI table",
			"metadata": {}
		},
		{
			"cell_type": "code",
			"source": "impleDataUpd = [\n    (3, \"this is update on data lake\", \"Sales\", \"RJ\", 81000, 30, 23000, 827307999),\n]\ncolumns = [\"emp_id\", \"employee_name\", \"department\", \"state\", \"salary\", \"age\", \"bonus\", \"ts\"]\nspark_df = spark.createDataFrame(data=impleDataUpd, schema=columns)\n\nWriteDF = (\n    glueContext.write_dynamic_frame.from_options(\n        frame=DynamicFrame.fromDF(spark_df, glueContext,\"glue_df\"),\n        connection_type=\"marketplace.spark\",\n        connection_options=connection_options,\n        transformation_ctx=\"glue_df\",\n    )\n)\n\nReadGlueDF = (\n    glueContext.create_dynamic_frame.from_options(\n        connection_type=\"marketplace.spark\",\n        connection_options=connection_options,\n        transformation_ctx=\"ReadGlueDF\",\n    )\n)\nglue_to_spark_df = ReadGlueDF.toDF()\nglue_to_spark_df.show()\n",
			"metadata": {
				"trusted": true
			},
			"execution_count": 74,
			"outputs": [
				{
					"name": "stdout",
					"text": "+-------------------+--------------------+------------------+----------------------+--------------------+------+--------------------+-----------+-----+------+---+-----+----------+\n|_hoodie_commit_time|_hoodie_commit_seqno|_hoodie_record_key|_hoodie_partition_path|   _hoodie_file_name|emp_id|       employee_name| department|state|salary|age|bonus|        ts|\n+-------------------+--------------------+------------------+----------------------+--------------------+------+--------------------+-----------+-----+------+---+-----+----------+\n|  20221221162242455|20221221162242455...|                 2|                      |451fc7ed-0b7e-427...|     2|      Lauren Oconnor|  Marketing|   IL| 32029| 58|62591|1483855109|\n|  20221221162242455|20221221162242455...|                 1|                      |451fc7ed-0b7e-427...|     1|        Antonio Hale|         IT|   RJ| 18697| 58| 7399| 318481455|\n|  20221221162254254|20221221162254254...|                 4|                      |451fc7ed-0b7e-427...|     4|      This is APPEND|Engineering|   RJ| 79000| 53|15000|1627694678|\n|  20221221162242455|20221221162242455...|                 0|                      |451fc7ed-0b7e-427...|     0|    Michael Schwartz|         HR|   NY|101517| 59|20692| 510575555|\n|  20221221162303624|20221221162303624...|                 3|                      |451fc7ed-0b7e-427...|     3|this is update on...|      Sales|   RJ| 81000| 30|23000| 827307999|\n+-------------------+--------------------+------------------+----------------------+--------------------+------+--------------------+-----------+-----+------+---+-----+----------+\n",
					"output_type": "stream"
				}
			]
		},
		{
			"cell_type": "markdown",
			"source": "# Step 12: Query with Spark SQL",
			"metadata": {}
		},
		{
			"cell_type": "code",
			"source": "spark.sql(\"select * from  hudidb.hudi_table where emp_id = 3 \").show()",
			"metadata": {
				"trusted": true
			},
			"execution_count": 75,
			"outputs": [
				{
					"name": "stdout",
					"text": "+-------------------+--------------------+------------------+----------------------+--------------------+------+--------------------+----------+-----+------+---+-----+---------+\n|_hoodie_commit_time|_hoodie_commit_seqno|_hoodie_record_key|_hoodie_partition_path|   _hoodie_file_name|emp_id|       employee_name|department|state|salary|age|bonus|       ts|\n+-------------------+--------------------+------------------+----------------------+--------------------+------+--------------------+----------+-----+------+---+-----+---------+\n|  20221221162303624|20221221162303624...|                 3|                      |451fc7ed-0b7e-427...|     3|this is update on...|     Sales|   RJ| 81000| 30|23000|827307999|\n+-------------------+--------------------+------------------+----------------------+--------------------+------+--------------------+----------+-----+------+---+-----+---------+\n",
					"output_type": "stream"
				}
			]
		},
		{
			"cell_type": "markdown",
			"source": "# Step 13: Hard Delete",
			"metadata": {}
		},
		{
			"cell_type": "code",
			"source": "spark_df = spark.sql(\"SELECT * FROM hudidb.hudi_table where emp_id='4' \")\n\nprint(\"********************\")\nprint(spark_df.show())\nprint(\"********************\")\n\ndb_name = \"hudidb\"\ntable_name=\"hudi_table\"\n\nrecordkey = 'emp_id'\nprecombine = 'ts'\n\npath = \"s3://soumil-dms-learn/hudi/hudi_table/\"\nmethod = 'delete'\ntable_type = \"COPY_ON_WRITE\"\n\nconnection_options={\n    \"path\": path,\n    \"connectionName\": \"hudi-connection\",\n\n    \"hoodie.datasource.write.storage.type\": table_type,\n    'className': 'org.apache.hudi',\n    'hoodie.table.name': table_name,\n    'hoodie.datasource.write.recordkey.field': recordkey,\n    'hoodie.datasource.write.table.name': table_name,\n    'hoodie.datasource.write.operation': method,\n    'hoodie.datasource.write.precombine.field': precombine,\n\n\n    'hoodie.datasource.hive_sync.enable': 'true',\n    \"hoodie.datasource.hive_sync.mode\":\"hms\",\n    'hoodie.datasource.hive_sync.sync_as_datasource': 'false',\n    'hoodie.datasource.hive_sync.database': db_name,\n    'hoodie.datasource.hive_sync.table': table_name,\n    'hoodie.datasource.hive_sync.use_jdbc': 'false',\n    'hoodie.datasource.hive_sync.partition_extractor_class': 'org.apache.hudi.hive.MultiPartKeysValueExtractor',\n    'hoodie.datasource.write.hive_style_partitioning': 'true',\n}\n\n\n\nWriteDF = (\n    glueContext.write_dynamic_frame.from_options(\n        frame=DynamicFrame.fromDF(spark_df, glueContext,\"glue_df\"),\n        connection_type=\"marketplace.spark\",\n        connection_options=connection_options,\n        transformation_ctx=\"glue_df\",\n    )\n)\n\nReadGlueDF = (\n    glueContext.create_dynamic_frame.from_options(\n        connection_type=\"marketplace.spark\",\n        connection_options=connection_options,\n        transformation_ctx=\"ReadGlueDF\",\n    )\n)\nglue_to_spark_df = ReadGlueDF.toDF()\nglue_to_spark_df.show()",
			"metadata": {
				"trusted": true
			},
			"execution_count": 76,
			"outputs": [
				{
					"name": "stdout",
					"text": "********************\n+-------------------+--------------------+------------------+----------------------+--------------------+------+--------------+-----------+-----+------+---+-----+----------+\n|_hoodie_commit_time|_hoodie_commit_seqno|_hoodie_record_key|_hoodie_partition_path|   _hoodie_file_name|emp_id| employee_name| department|state|salary|age|bonus|        ts|\n+-------------------+--------------------+------------------+----------------------+--------------------+------+--------------+-----------+-----+------+---+-----+----------+\n|  20221221162254254|20221221162254254...|                 4|                      |451fc7ed-0b7e-427...|     4|This is APPEND|Engineering|   RJ| 79000| 53|15000|1627694678|\n+-------------------+--------------------+------------------+----------------------+--------------------+------+--------------+-----------+-----+------+---+-----+----------+\n\nNone\n********************\n+-------------------+--------------------+------------------+----------------------+--------------------+------+--------------------+----------+-----+------+---+-----+----------+\n|_hoodie_commit_time|_hoodie_commit_seqno|_hoodie_record_key|_hoodie_partition_path|   _hoodie_file_name|emp_id|       employee_name|department|state|salary|age|bonus|        ts|\n+-------------------+--------------------+------------------+----------------------+--------------------+------+--------------------+----------+-----+------+---+-----+----------+\n|  20221221162242455|20221221162242455...|                 2|                      |451fc7ed-0b7e-427...|     2|      Lauren Oconnor| Marketing|   IL| 32029| 58|62591|1483855109|\n|  20221221162242455|20221221162242455...|                 1|                      |451fc7ed-0b7e-427...|     1|        Antonio Hale|        IT|   RJ| 18697| 58| 7399| 318481455|\n|  20221221162242455|20221221162242455...|                 0|                      |451fc7ed-0b7e-427...|     0|    Michael Schwartz|        HR|   NY|101517| 59|20692| 510575555|\n|  20221221162303624|20221221162303624...|                 3|                      |451fc7ed-0b7e-427...|     3|this is update on...|     Sales|   RJ| 81000| 30|23000| 827307999|\n+-------------------+--------------------+------------------+----------------------+--------------------+------+--------------------+----------+-----+------+---+-----+----------+\n",
					"output_type": "stream"
				}
			]
		},
		{
			"cell_type": "markdown",
			"source": "# Step 14: Clustering and compaction",
			"metadata": {}
		},
		{
			"cell_type": "markdown",
			"source": " ![image](https://user-images.githubusercontent.com/39345855/208302373-6624c2fc-b2ed-4fee-bb60-984d7cb0ec20.png)\n",
			"metadata": {}
		},
		{
			"cell_type": "code",
			"source": "db_name = \"hudidb\"\ntable_name=\"hudi_table\"\nrecordkey = 'emp_id'\nprecombine = 'ts'\npath = \"s3://soumil-dms-learn/hudi/hudi_table/\"\nmethod = 'upsert'\ntable_type = \"COPY_ON_WRITE\"\n\nconnection_options={\n    \"path\": path,\n    \"connectionName\": \"hudi-connection\",\n\n    \"hoodie.datasource.write.storage.type\": table_type,\n    'className': 'org.apache.hudi',\n    'hoodie.table.name': table_name,\n    'hoodie.datasource.write.recordkey.field': recordkey,\n    'hoodie.datasource.write.table.name': table_name,\n    'hoodie.datasource.write.operation': method,\n    'hoodie.datasource.write.precombine.field': precombine,\n\n\n    'hoodie.datasource.hive_sync.enable': 'true',\n    \"hoodie.datasource.hive_sync.mode\":\"hms\",\n    'hoodie.datasource.hive_sync.sync_as_datasource': 'false',\n    'hoodie.datasource.hive_sync.database': db_name,\n    'hoodie.datasource.hive_sync.table': table_name,\n    'hoodie.datasource.hive_sync.use_jdbc': 'false',\n    'hoodie.datasource.hive_sync.partition_extractor_class': 'org.apache.hudi.hive.MultiPartKeysValueExtractor',\n    'hoodie.datasource.write.hive_style_partitioning': 'true',\n    \n    \"hoodie.clustering.plan.strategy.sort.columns\":\"state\",\n    \"hoodie.clustering.plan.strategy.max.bytes.per.group\" : '107374182400',\n    'hoodie.clustering.plan.strategy.max.num.groups' : '1',\n    'hoodie.cleaner.policy' : 'KEEP_LATEST_FILE_VERSIONS',\n    \n}\n",
			"metadata": {
				"trusted": true
			},
			"execution_count": 77,
			"outputs": [
				{
					"name": "stdout",
					"text": "\n",
					"output_type": "stream"
				}
			]
		},
		{
			"cell_type": "code",
			"source": "cluster_df = spark.sql(\"SELECT * FROM hudidb.hudi_table \")\n\nWriteDF = (\n    glueContext.write_dynamic_frame.from_options(\n        frame=DynamicFrame.fromDF(cluster_df, glueContext,\"glue_df\"),\n        connection_type=\"marketplace.spark\",\n        connection_options=connection_options,\n        transformation_ctx=\"glue_df\",\n    )\n)",
			"metadata": {
				"trusted": true
			},
			"execution_count": 78,
			"outputs": [
				{
					"name": "stdout",
					"text": "\n",
					"output_type": "stream"
				}
			]
		},
		{
			"cell_type": "markdown",
			"source": " ![image](https://user-images.githubusercontent.com/39345855/208302689-cd37ea24-6b65-411d-bc7f-146a3f979c7a.png)\n",
			"metadata": {}
		},
		{
			"cell_type": "markdown",
			"source": "# Step 15: Time Travel Query",
			"metadata": {}
		},
		{
			"cell_type": "code",
			"source": "df = spark.read. \\\n  format(\"hudi\"). \\\n  option(\"as.of.instant\", \"2022-18-12\"). \\\n  load(path)",
			"metadata": {
				"trusted": true
			},
			"execution_count": 79,
			"outputs": [
				{
					"name": "stdout",
					"text": "\n",
					"output_type": "stream"
				}
			]
		},
		{
			"cell_type": "code",
			"source": "df.show()",
			"metadata": {
				"trusted": true
			},
			"execution_count": 80,
			"outputs": [
				{
					"name": "stdout",
					"text": "+-------------------+--------------------+------------------+----------------------+--------------------+------+--------------------+----------+-----+------+---+-----+----------+\n|_hoodie_commit_time|_hoodie_commit_seqno|_hoodie_record_key|_hoodie_partition_path|   _hoodie_file_name|emp_id|       employee_name|department|state|salary|age|bonus|        ts|\n+-------------------+--------------------+------------------+----------------------+--------------------+------+--------------------+----------+-----+------+---+-----+----------+\n|  20221221162325769|20221221162325769...|                 0|                      |451fc7ed-0b7e-427...|     0|    Michael Schwartz|        HR|   NY|101517| 59|20692| 510575555|\n|  20221221162325769|20221221162325769...|                 2|                      |451fc7ed-0b7e-427...|     2|      Lauren Oconnor| Marketing|   IL| 32029| 58|62591|1483855109|\n|  20221221162325769|20221221162325769...|                 1|                      |451fc7ed-0b7e-427...|     1|        Antonio Hale|        IT|   RJ| 18697| 58| 7399| 318481455|\n|  20221221162325769|20221221162325769...|                 3|                      |451fc7ed-0b7e-427...|     3|this is update on...|     Sales|   RJ| 81000| 30|23000| 827307999|\n+-------------------+--------------------+------------------+----------------------+--------------------+------+--------------------+----------+-----+------+---+-----+----------+\n",
					"output_type": "stream"
				}
			]
		},
		{
			"cell_type": "markdown",
			"source": "# Incremental query",
			"metadata": {}
		},
		{
			"cell_type": "code",
			"source": "spark. \\\n      read. \\\n      format(\"hudi\"). \\\n      load(path). \\\n      createOrReplaceTempView(\"hudi_snapshot\")",
			"metadata": {
				"trusted": true
			},
			"execution_count": 84,
			"outputs": [
				{
					"name": "stdout",
					"text": "\n",
					"output_type": "stream"
				}
			]
		},
		{
			"cell_type": "code",
			"source": "commits = list(map(lambda row: row[0], spark.sql(\"select distinct(_hoodie_commit_time) as commitTime from  hudi_snapshot order by commitTime\").limit(50).collect()))\nbeginTime = commits[len(commits) - 2] # commit time we are interested in",
			"metadata": {
				"trusted": true
			},
			"execution_count": 85,
			"outputs": [
				{
					"name": "stdout",
					"text": "\n",
					"output_type": "stream"
				}
			]
		},
		{
			"cell_type": "code",
			"source": "beginTime",
			"metadata": {
				"trusted": true
			},
			"execution_count": 86,
			"outputs": [
				{
					"name": "stdout",
					"text": "'20221221162325769'\n",
					"output_type": "stream"
				}
			]
		},
		{
			"cell_type": "code",
			"source": "commits",
			"metadata": {
				"trusted": true
			},
			"execution_count": 87,
			"outputs": [
				{
					"name": "stdout",
					"text": "['20221221162325769']\n",
					"output_type": "stream"
				}
			]
		},
		{
			"cell_type": "code",
			"source": "incremental_read_options = {\n  'hoodie.datasource.query.type': 'incremental',\n  'hoodie.datasource.read.begin.instanttime': beginTime,\n}",
			"metadata": {
				"trusted": true
			},
			"execution_count": 88,
			"outputs": [
				{
					"name": "stdout",
					"text": "\n",
					"output_type": "stream"
				}
			]
		},
		{
			"cell_type": "code",
			"source": "IncrementalDF = spark.read.format(\"hudi\"). \\\n  options(**incremental_read_options). \\\n  load(path)\n\nIncrementalDF.createOrReplaceTempView(\"hudi_incremental\")",
			"metadata": {
				"trusted": true
			},
			"execution_count": 89,
			"outputs": [
				{
					"name": "stdout",
					"text": "\n",
					"output_type": "stream"
				}
			]
		},
		{
			"cell_type": "code",
			"source": "spark.sql(\"select * from  hudi_incremental\").show()\n",
			"metadata": {
				"trusted": true
			},
			"execution_count": 90,
			"outputs": [
				{
					"name": "stdout",
					"text": "+-------------------+--------------------+------------------+----------------------+-----------------+------+-------------+----------+-----+------+---+-----+---+\n|_hoodie_commit_time|_hoodie_commit_seqno|_hoodie_record_key|_hoodie_partition_path|_hoodie_file_name|emp_id|employee_name|department|state|salary|age|bonus| ts|\n+-------------------+--------------------+------------------+----------------------+-----------------+------+-------------+----------+-----+------+---+-----+---+\n+-------------------+--------------------+------------------+----------------------+-----------------+------+-------------+----------+-----+------+---+-----+---+\n",
					"output_type": "stream"
				}
			]
		},
		{
			"cell_type": "markdown",
			"source": "# Appending data for incremental data processing ",
			"metadata": {}
		},
		{
			"cell_type": "code",
			"source": "impleDataUpd = [\n    (6, \"This is APPEND\", \"Sales\", \"RJ\", 81000, 30, 23000, 827307999),\n    (7, \"This is APPEND\", \"Engineering\", \"RJ\", 79000, 53, 15000, 1627694678),\n]\n\ncolumns = [\"emp_id\", \"employee_name\", \"department\", \"state\", \"salary\", \"age\", \"bonus\", \"ts\"]\nspark_df = spark.createDataFrame(data=impleDataUpd, schema=columns)\n\nWriteDF = (\n    glueContext.write_dynamic_frame.from_options(\n        frame=DynamicFrame.fromDF(spark_df, glueContext,\"glue_df\"),\n        connection_type=\"marketplace.spark\",\n        connection_options=connection_options,\n        transformation_ctx=\"glue_df\",\n    )\n)",
			"metadata": {
				"trusted": true
			},
			"execution_count": 91,
			"outputs": [
				{
					"name": "stdout",
					"text": "\n",
					"output_type": "stream"
				}
			]
		},
		{
			"cell_type": "code",
			"source": "incremental_read_options = {\n  'hoodie.datasource.query.type': 'incremental',\n  'hoodie.datasource.read.begin.instanttime': beginTime,\n}",
			"metadata": {
				"trusted": true
			},
			"execution_count": 92,
			"outputs": [
				{
					"name": "stdout",
					"text": "\n",
					"output_type": "stream"
				}
			]
		},
		{
			"cell_type": "code",
			"source": "IncrementalDF = spark.read.format(\"hudi\"). \\\n  options(**incremental_read_options). \\\n  load(path)\n\nIncrementalDF.createOrReplaceTempView(\"hudi_incremental\")",
			"metadata": {
				"trusted": true
			},
			"execution_count": 93,
			"outputs": [
				{
					"name": "stdout",
					"text": "\n",
					"output_type": "stream"
				}
			]
		},
		{
			"cell_type": "code",
			"source": "spark.sql(\"select * from  hudi_incremental\").show()",
			"metadata": {
				"trusted": true
			},
			"execution_count": 94,
			"outputs": [
				{
					"name": "stdout",
					"text": "+-------------------+--------------------+------------------+----------------------+--------------------+------+--------------+-----------+-----+------+---+-----+----------+\n|_hoodie_commit_time|_hoodie_commit_seqno|_hoodie_record_key|_hoodie_partition_path|   _hoodie_file_name|emp_id| employee_name| department|state|salary|age|bonus|        ts|\n+-------------------+--------------------+------------------+----------------------+--------------------+------+--------------+-----------+-----+------+---+-----+----------+\n|  20221221162345162|20221221162345162...|                 6|                      |451fc7ed-0b7e-427...|     6|This is APPEND|      Sales|   RJ| 81000| 30|23000| 827307999|\n|  20221221162345162|20221221162345162...|                 7|                      |451fc7ed-0b7e-427...|     7|This is APPEND|Engineering|   RJ| 79000| 53|15000|1627694678|\n+-------------------+--------------------+------------------+----------------------+--------------------+------+--------------+-----------+-----+------+---+-----+----------+\n",
					"output_type": "stream"
				}
			]
		},
		{
			"cell_type": "markdown",
			"source": "# Schema Evolution",
			"metadata": {}
		},
		{
			"cell_type": "markdown",
			"source": "###  Adding New Column",
			"metadata": {}
		},
		{
			"cell_type": "code",
			"source": "spark. \\\n      read. \\\n      format(\"hudi\"). \\\n      load(path). \\\n      createOrReplaceTempView(\"hudi_snapshot\")",
			"metadata": {
				"trusted": true
			},
			"execution_count": 95,
			"outputs": [
				{
					"name": "stdout",
					"text": "\n",
					"output_type": "stream"
				}
			]
		},
		{
			"cell_type": "code",
			"source": "spark.sql(\"desc hudi_snapshot\").show()",
			"metadata": {
				"trusted": true
			},
			"execution_count": 96,
			"outputs": [
				{
					"name": "stdout",
					"text": "+--------------------+---------+-------+\n|            col_name|data_type|comment|\n+--------------------+---------+-------+\n| _hoodie_commit_time|   string|   null|\n|_hoodie_commit_seqno|   string|   null|\n|  _hoodie_record_key|   string|   null|\n|_hoodie_partition...|   string|   null|\n|   _hoodie_file_name|   string|   null|\n|              emp_id|   bigint|   null|\n|       employee_name|   string|   null|\n|          department|   string|   null|\n|               state|   string|   null|\n|              salary|   bigint|   null|\n|                 age|   bigint|   null|\n|               bonus|   bigint|   null|\n|                  ts|   bigint|   null|\n+--------------------+---------+-------+\n",
					"output_type": "stream"
				}
			]
		},
		{
			"cell_type": "markdown",
			"source": "#### Defining new Schema ",
			"metadata": {}
		},
		{
			"cell_type": "code",
			"source": "new_schema = StructType(\n    [\n        StructField(\"emp_id\",LongType(),True),\n        StructField(\"employee_name\",StringType(),True),\n        StructField(\"department\",StringType(),True),\n        StructField(\"state\",StringType(),True),\n        StructField(\"salary\",LongType(),True),\n        StructField(\"age\",LongType(),True),\n        StructField(\"bonus\",LongType(),True),\n        StructField(\"ts\",LongType(),True),\n        StructField(\"newField\",IntegerType(),True),\n\n      ])",
			"metadata": {
				"trusted": true
			},
			"execution_count": 98,
			"outputs": [
				{
					"name": "stdout",
					"text": "\n",
					"output_type": "stream"
				}
			]
		},
		{
			"cell_type": "code",
			"source": "impleDataUpd = [\n    (6, \"This is APPEND\", \"Sales\", \"RJ\", 81000, 30, 23000, 827307999, 11),\n]\n\nspark_df = spark.createDataFrame(data=impleDataUpd, schema=new_schema)\n\nWriteDF = (\n    glueContext.write_dynamic_frame.from_options(\n        frame=DynamicFrame.fromDF(spark_df, glueContext,\"glue_df\"),\n        connection_type=\"marketplace.spark\",\n        connection_options=connection_options,\n        transformation_ctx=\"glue_df\",\n    )\n)",
			"metadata": {
				"trusted": true
			},
			"execution_count": 99,
			"outputs": [
				{
					"name": "stdout",
					"text": "\n",
					"output_type": "stream"
				}
			]
		},
		{
			"cell_type": "markdown",
			"source": "#### Recreating Snapshot",
			"metadata": {}
		},
		{
			"cell_type": "code",
			"source": "spark. \\\n      read. \\\n      format(\"hudi\"). \\\n      load(path). \\\n      createOrReplaceTempView(\"hudi_snapshot\")",
			"metadata": {
				"trusted": true
			},
			"execution_count": 100,
			"outputs": [
				{
					"name": "stdout",
					"text": "\n",
					"output_type": "stream"
				}
			]
		},
		{
			"cell_type": "code",
			"source": "spark.sql(\"desc hudi_snapshot\").show()",
			"metadata": {
				"trusted": true
			},
			"execution_count": 101,
			"outputs": [
				{
					"name": "stdout",
					"text": "+--------------------+---------+-------+\n|            col_name|data_type|comment|\n+--------------------+---------+-------+\n| _hoodie_commit_time|   string|   null|\n|_hoodie_commit_seqno|   string|   null|\n|  _hoodie_record_key|   string|   null|\n|_hoodie_partition...|   string|   null|\n|   _hoodie_file_name|   string|   null|\n|              emp_id|   bigint|   null|\n|       employee_name|   string|   null|\n|          department|   string|   null|\n|               state|   string|   null|\n|              salary|   bigint|   null|\n|                 age|   bigint|   null|\n|               bonus|   bigint|   null|\n|                  ts|   bigint|   null|\n|            newField|      int|   null|\n+--------------------+---------+-------+\n",
					"output_type": "stream"
				}
			]
		},
		{
			"cell_type": "code",
			"source": "spark.sql(\"select * from  hudi_snapshot\").show()",
			"metadata": {
				"trusted": true
			},
			"execution_count": 102,
			"outputs": [
				{
					"name": "stdout",
					"text": "+-------------------+--------------------+------------------+----------------------+--------------------+------+--------------------+-----------+-----+------+---+-----+----------+--------+\n|_hoodie_commit_time|_hoodie_commit_seqno|_hoodie_record_key|_hoodie_partition_path|   _hoodie_file_name|emp_id|       employee_name| department|state|salary|age|bonus|        ts|newField|\n+-------------------+--------------------+------------------+----------------------+--------------------+------+--------------------+-----------+-----+------+---+-----+----------+--------+\n|  20221221162325769|20221221162325769...|                 0|                      |451fc7ed-0b7e-427...|     0|    Michael Schwartz|         HR|   NY|101517| 59|20692| 510575555|    null|\n|  20221221162325769|20221221162325769...|                 2|                      |451fc7ed-0b7e-427...|     2|      Lauren Oconnor|  Marketing|   IL| 32029| 58|62591|1483855109|    null|\n|  20221221162325769|20221221162325769...|                 1|                      |451fc7ed-0b7e-427...|     1|        Antonio Hale|         IT|   RJ| 18697| 58| 7399| 318481455|    null|\n|  20221221162325769|20221221162325769...|                 3|                      |451fc7ed-0b7e-427...|     3|this is update on...|      Sales|   RJ| 81000| 30|23000| 827307999|    null|\n|  20221221162455566|20221221162455566...|                 6|                      |451fc7ed-0b7e-427...|     6|      This is APPEND|      Sales|   RJ| 81000| 30|23000| 827307999|      11|\n|  20221221162345162|20221221162345162...|                 7|                      |451fc7ed-0b7e-427...|     7|      This is APPEND|Engineering|   RJ| 79000| 53|15000|1627694678|    null|\n+-------------------+--------------------+------------------+----------------------+--------------------+------+--------------------+-----------+-----+------+---+-----+----------+--------+\n",
					"output_type": "stream"
				}
			]
		},
		{
			"cell_type": "markdown",
			"source": "## Changes to Data Types in Hudi table",
			"metadata": {
				"tags": []
			}
		},
		{
			"cell_type": "markdown",
			"source": "![image](https://user-images.githubusercontent.com/39345855/208951966-0f845cf4-a949-49de-8b6e-330aa6644ba6.png)\n",
			"metadata": {}
		},
		{
			"cell_type": "code",
			"source": "new_schema_new_dtypes = StructType(\n    [\n        StructField(\"emp_id\",LongType(),True),\n        StructField(\"employee_name\",StringType(),True),\n        StructField(\"department\",StringType(),True),\n        StructField(\"state\",StringType(),True),\n        StructField(\"salary\",LongType(),True),\n        StructField(\"age\",LongType(),True),\n        StructField(\"bonus\",LongType(),True),\n        StructField(\"ts\",LongType(),True),\n        StructField(\"newField\",LongType(),True),\n        \n    ])\n\nimpleDataUpd = [\n    (7, \"This is APPEND\", \"Sales\", \"RJ\", 81000, 30, 23000, 827307999,  22),\n]\n\nspark_df = spark.createDataFrame(data=impleDataUpd, schema=new_schema_new_dtypes)\nspark_df.show(1)",
			"metadata": {
				"trusted": true
			},
			"execution_count": 104,
			"outputs": [
				{
					"name": "stdout",
					"text": "+------+--------------+----------+-----+------+---+-----+---------+--------+\n|emp_id| employee_name|department|state|salary|age|bonus|       ts|newField|\n+------+--------------+----------+-----+------+---+-----+---------+--------+\n|     7|This is APPEND|     Sales|   RJ| 81000| 30|23000|827307999|      22|\n+------+--------------+----------+-----+------+---+-----+---------+--------+\n",
					"output_type": "stream"
				}
			]
		},
		{
			"cell_type": "code",
			"source": "WriteDF = (\n    glueContext.write_dynamic_frame.from_options(\n        frame=DynamicFrame.fromDF(spark_df, glueContext,\"glue_df\"),\n        connection_type=\"marketplace.spark\",\n        connection_options=connection_options,\n        transformation_ctx=\"glue_df\",\n    )\n)\n",
			"metadata": {
				"trusted": true
			},
			"execution_count": 105,
			"outputs": [
				{
					"name": "stdout",
					"text": "\n",
					"output_type": "stream"
				}
			]
		},
		{
			"cell_type": "code",
			"source": "spark. \\\n      read. \\\n      format(\"hudi\"). \\\n      load(path). \\\n      createOrReplaceTempView(\"hudi_snapshot\")",
			"metadata": {
				"trusted": true
			},
			"execution_count": 106,
			"outputs": [
				{
					"name": "stdout",
					"text": "\n",
					"output_type": "stream"
				}
			]
		},
		{
			"cell_type": "code",
			"source": "spark.sql(\"desc hudi_snapshot\").show()",
			"metadata": {
				"trusted": true
			},
			"execution_count": 107,
			"outputs": [
				{
					"name": "stdout",
					"text": "+--------------------+---------+-------+\n|            col_name|data_type|comment|\n+--------------------+---------+-------+\n| _hoodie_commit_time|   string|   null|\n|_hoodie_commit_seqno|   string|   null|\n|  _hoodie_record_key|   string|   null|\n|_hoodie_partition...|   string|   null|\n|   _hoodie_file_name|   string|   null|\n|              emp_id|   bigint|   null|\n|       employee_name|   string|   null|\n|          department|   string|   null|\n|               state|   string|   null|\n|              salary|   bigint|   null|\n|                 age|   bigint|   null|\n|               bonus|   bigint|   null|\n|                  ts|   bigint|   null|\n|            newField|   bigint|   null|\n+--------------------+---------+-------+\n",
					"output_type": "stream"
				}
			]
		},
		{
			"cell_type": "code",
			"source": "",
			"metadata": {},
			"execution_count": null,
			"outputs": []
		},
		{
			"cell_type": "code",
			"source": "",
			"metadata": {},
			"execution_count": null,
			"outputs": []
		}
	]
}